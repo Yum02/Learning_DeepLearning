{
 "cells": [
  {
   "cell_type": "markdown",
   "metadata": {},
   "source": [
    "#### 퍼셉트론?\n",
    "다수의 신호를 입력으로 받아 하나의 신호를 출력\n",
    "퍼셉트론의 신호는 흐른다/안 흐른다(1이나 0)의 두 가지 값을 가질 수 있음\n"
   ]
  },
  {
   "cell_type": "markdown",
   "metadata": {},
   "source": [
    "#### 게이트의 진리표\n",
    "\n",
    "1. AND </br>\n",
    "\n",
    "x1 | x2 | y\n",
    "---|---|---\n",
    "0 | 0 | 0\n",
    "1 | 0 | 0\n",
    "0 | 1 | 0\n",
    "1 | 1 | **1**\n",
    "\n",
    "2. NAND<br>\n",
    "\n",
    "x1 | x2 | y\n",
    "---|---|---\n",
    "0 | 0 | 1\n",
    "1 | 0 | 1\n",
    "0 | 1 | 1\n",
    "1 | 1 | **0**\n",
    "\n",
    "3. OR</br>\n",
    "\n",
    "x1 | x2 | y\n",
    "---|---|---\n",
    "0 | 0 | 0\n",
    "1 | 0 | 1\n",
    "0 | 1 | 1\n",
    "1 | 1 | 1"
   ]
  },
  {
   "cell_type": "code",
   "execution_count": 2,
   "metadata": {},
   "outputs": [
    {
     "name": "stdout",
     "output_type": "stream",
     "text": [
      "0\n",
      "1\n"
     ]
    }
   ],
   "source": [
    "#AND\n",
    "def AND(x1, x2):\n",
    "    w1, w2, theta = 0.5, 0.5, 0.7\n",
    "    tmp = x1*w1 + x2*w2\n",
    "    if tmp <= theta:\n",
    "        return 0\n",
    "    elif tmp > theta:\n",
    "        return 1\n",
    "\n",
    "print(AND(0, 0))\n",
    "print(AND(1, 1))"
   ]
  },
  {
   "cell_type": "code",
   "execution_count": 3,
   "metadata": {},
   "outputs": [
    {
     "name": "stdout",
     "output_type": "stream",
     "text": [
      "0\n"
     ]
    }
   ],
   "source": [
    "#가중치와 편향 도입\n",
    "import numpy as np\n",
    "\n",
    "def AND(x1, x2):\n",
    "    x = np.array([x1, x2])\n",
    "    w = np.array([0.5, 0.5])\n",
    "    b = -0.7 #편향\n",
    "    tmp = np.sum(w*x) + b\n",
    "    if tmp <= 0:\n",
    "        return 0\n",
    "    else:\n",
    "        return 1\n",
    "    \n",
    "print(AND(0, 1)) #0출력\n"
   ]
  },
  {
   "cell_type": "code",
   "execution_count": 4,
   "metadata": {},
   "outputs": [],
   "source": [
    "# NAND게이트, OR게이트 구현\n",
    "def NAND(x1, x2):\n",
    "    x = np.array([x1, x2])\n",
    "    w = np.array([-0.5, -0.5])\n",
    "    b = 0.7\n",
    "    tmp = np.sum(w*x) + b\n",
    "    if tmp <= 0:\n",
    "        return 0\n",
    "    else:\n",
    "        return 1\n",
    "\n",
    "def OR(x1, x2):\n",
    "    x = np.array([x1, x2])\n",
    "    w = np.array([0.5, 0.5])\n",
    "    b = -0.2\n",
    "    tmp = np.sum(w*x) + b\n",
    "    if tmp <= 0:\n",
    "        return 0\n",
    "    else:\n",
    "        return 1"
   ]
  },
  {
   "cell_type": "markdown",
   "metadata": {},
   "source": [
    "#### XOR 게이트\n",
    "xor게이트는 배타적 논리합이라는 논리 회로로, 한쪽이 1일 때만 1을 출력\n",
    "\n",
    "x1 | x2 | y\n",
    "---|---|---\n",
    "0 | 0 | 0\n",
    "1 | 0 | 1\n",
    "0 | 1 | 1\n",
    "1 | 1 | 0\n",
    "\n",
    "AND, NAND, OR 게이트를 조합한 XOR 게이트의 진리표\n",
    "(s1 : NAND의 출력, s2 : OR의 출력)\n",
    "\n",
    "x1 | x2 | s1 | s2 | y\n",
    "---|---|---|---|--|\n",
    "0 | 0 | 1 | 0 | 0\n",
    "1 | 0 | 1 | 1 | 1\n",
    "0 | 1 | 1 | 1 | 1\n",
    "1 | 1 | 0 | 0 | 1"
   ]
  },
  {
   "cell_type": "code",
   "execution_count": 14,
   "metadata": {},
   "outputs": [
    {
     "data": {
      "text/plain": [
       "0"
      ]
     },
     "execution_count": 14,
     "metadata": {},
     "output_type": "execute_result"
    }
   ],
   "source": [
    "#XOR 게이트 구현\n",
    "def XOR(x1, x2):\n",
    "    s1 = NAND(x1, x2)\n",
    "    s2 = AND(x1, x2)\n",
    "    y = AND(s1, s2)\n",
    "    return y"
   ]
  }
 ],
 "metadata": {
  "kernelspec": {
   "display_name": "Python 3",
   "language": "python",
   "name": "python3"
  },
  "language_info": {
   "codemirror_mode": {
    "name": "ipython",
    "version": 3
   },
   "file_extension": ".py",
   "mimetype": "text/x-python",
   "name": "python",
   "nbconvert_exporter": "python",
   "pygments_lexer": "ipython3",
   "version": "3.10.8"
  },
  "orig_nbformat": 4
 },
 "nbformat": 4,
 "nbformat_minor": 2
}
